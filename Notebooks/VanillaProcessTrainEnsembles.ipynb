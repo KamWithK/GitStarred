{
 "cells": [
  {
   "cell_type": "markdown",
   "metadata": {},
   "source": [
    "# Data Processing Pipeline to Train ML Models"
   ]
  },
  {
   "cell_type": "code",
   "execution_count": 1,
   "metadata": {},
   "outputs": [],
   "source": [
    "import h2o\n",
    "import os, requests\n",
    "\n",
    "import pyspark.sql.functions as F\n",
    "\n",
    "from pyspark.sql import SparkSession\n",
    "from pyspark.ml import Pipeline\n",
    "from pyspark.ml.feature import MinMaxScaler, VectorAssembler\n",
    "from pyspark.sql.functions import regexp_extract\n",
    "from Pipeline.Components import RemoveColumns, CastToInt, CleanUp, ExtractTextFeatures\n",
    "from pysparkling import H2OContext\n",
    "from pysparkling.ml import H2OAutoML\n",
    "from IPython.core.interactiveshell import InteractiveShell\n",
    "\n",
    "InteractiveShell.ast_node_interactivity = \"all\""
   ]
  },
  {
   "cell_type": "code",
   "execution_count": 2,
   "metadata": {},
   "outputs": [],
   "source": [
    "spark = SparkSession.builder.appName(\"GitStarred\").config(\"spark.jars.packages\", \"org.postgresql:postgresql:42.2.14\").config(\"spark.executor.memory\", \"13g\").config(\"spark.driver.memory\", \"13g\").getOrCreate()"
   ]
  },
  {
   "cell_type": "markdown",
   "metadata": {},
   "source": [
    "## Importing Data\n",
    "To reduce computational requirements, we use a small random subset of values for tests.\n",
    "A seed is used for reusability.\n",
    "\n",
    "To run on the full database, use the commented out code."
   ]
  },
  {
   "cell_type": "code",
   "execution_count": 3,
   "metadata": {},
   "outputs": [],
   "source": [
    "# raw_data = spark.read.jdbc(\"jdbc:postgresql:GitHubData\", \"Repositories\", properties={\"user\": \"program\", \"password\": \"DatabaseAccess\", \"driver\": \"org.postgresql.Driver\"})\n",
    "query = \"(SELECT * FROM Repositories TABLESAMPLE SYSTEM(1) REPEATABLE(1)) AS temp\"\n",
    "# query = \"Repositories\"\n",
    "raw_data = spark.read.option(\"fetchsize\", \"10000\").jdbc(\"jdbc:postgresql:GitHubData\", query, numPartitions=100000, properties={\"user\": \"program\", \"password\": \"DatabaseAccess\", \"driver\": \"org.postgresql.Driver\"})"
   ]
  },
  {
   "cell_type": "markdown",
   "metadata": {},
   "source": [
    "## Exploratory Analysis\n",
    "We can start by viewing our columns and their relative data types.\n",
    "Look at one at a time and notice how they're similar or different to our natural expectations.\n",
    "Whilst doing this we'll notice that some features are now useless, some are very similar to others, and a few will far more effort to handle than others.\n",
    "\n",
    "*Note that showing values slows down the run on moderately sized data, so is commented out by default.*"
   ]
  },
  {
   "cell_type": "code",
   "execution_count": 4,
   "metadata": {},
   "outputs": [
    {
     "name": "stdout",
     "output_type": "stream",
     "text": [
      "root\n",
      " |-- id: string (nullable = true)\n",
      " |-- name: string (nullable = true)\n",
      " |-- description: string (nullable = true)\n",
      " |-- topics: string (nullable = true)\n",
      " |-- license: string (nullable = true)\n",
      " |-- readme: string (nullable = true)\n",
      " |-- primarylanguage: string (nullable = true)\n",
      " |-- createddate: timestamp (nullable = true)\n",
      " |-- lastpusheddate: timestamp (nullable = true)\n",
      " |-- fork: boolean (nullable = true)\n",
      " |-- archived: boolean (nullable = true)\n",
      " |-- locked: boolean (nullable = true)\n",
      " |-- forkcount: long (nullable = true)\n",
      " |-- commits: long (nullable = true)\n",
      " |-- issues: long (nullable = true)\n",
      " |-- pullrequests: long (nullable = true)\n",
      " |-- users: long (nullable = true)\n",
      " |-- watchs: long (nullable = true)\n",
      " |-- stars: long (nullable = true)\n",
      "\n",
      "449225 rows\n"
     ]
    }
   ],
   "source": [
    "raw_data.printSchema()\n",
    "print(f\"{raw_data.count()} rows\")\n",
    "# raw_data.show(vertical=True)"
   ]
  },
  {
   "cell_type": "markdown",
   "metadata": {},
   "source": [
    "The first thing we can do is get rid of alternative popularity metrics like fork count and watch count (which won't be used)."
   ]
  },
  {
   "cell_type": "code",
   "execution_count": 5,
   "metadata": {},
   "outputs": [],
   "source": [
    "drop = RemoveColumns(\"id\", \"forkcount\", \"watchs\", \"users\", \"issues\", \"pullrequests\")"
   ]
  },
  {
   "cell_type": "markdown",
   "metadata": {},
   "source": [
    "The next thing we can see is that both textual and categorical values are encoded as strings.\n",
    "We luckily don't have to modify categorical strings, as H2O can naturally interpret them.\n",
    "However, actual text (i.e. readmes and descriptions) are far more complicated and so we need to convert them into a numeric representation (through natural language processing techniques) later on.\n",
    "\n",
    "*Note that most ML libraries like MLLib can't interpret categories, and so require conversion to numeric values (normally through a `StringIndexer` or `OneHotEncoder`).*\n",
    "\n",
    "Remember that boolean values should be manually converted to integers (0's and 1's) to avoid any problems later during testing."
   ]
  },
  {
   "cell_type": "code",
   "execution_count": 6,
   "metadata": {},
   "outputs": [],
   "source": [
    "cast_to_int = CastToInt(\"fork\", \"locked\", \"archived\")"
   ]
  },
  {
   "cell_type": "markdown",
   "metadata": {},
   "source": [
    "We can take a look at our categorical columns distribution of values (for language and license) now"
   ]
  },
  {
   "cell_type": "code",
   "execution_count": 7,
   "metadata": {},
   "outputs": [
    {
     "name": "stdout",
     "output_type": "stream",
     "text": [
      "Unique Languages: 278\n",
      "+----------------+------+\n",
      "| primarylanguage| count|\n",
      "+----------------+------+\n",
      "|            null|137808|\n",
      "|      JavaScript| 59821|\n",
      "|            Java| 49753|\n",
      "|            HTML| 42967|\n",
      "|          Python| 31015|\n",
      "|             CSS| 14321|\n",
      "|             PHP| 13649|\n",
      "|              C#| 13375|\n",
      "|             C++| 12094|\n",
      "|            Ruby|  8381|\n",
      "|               C|  7822|\n",
      "|Jupyter Notebook|  7555|\n",
      "|      TypeScript|  7474|\n",
      "|           Shell|  5747|\n",
      "|           Swift|  4802|\n",
      "|              Go|  3705|\n",
      "|     Objective-C|  2553|\n",
      "|               R|  2544|\n",
      "|             Vue|  1936|\n",
      "|          Kotlin|  1793|\n",
      "+----------------+------+\n",
      "only showing top 20 rows\n",
      "\n",
      "Unique Licenses: 33\n",
      "+------------+------+\n",
      "|     license| count|\n",
      "+------------+------+\n",
      "|        null|388368|\n",
      "|         mit| 30796|\n",
      "|  apache-2.0|  8292|\n",
      "|     gpl-3.0|  8084|\n",
      "|       other|  7822|\n",
      "|     gpl-2.0|  1351|\n",
      "|bsd-3-clause|   931|\n",
      "|   unlicense|   770|\n",
      "|    agpl-3.0|   574|\n",
      "|    lgpl-3.0|   433|\n",
      "|bsd-2-clause|   340|\n",
      "|     mpl-2.0|   313|\n",
      "|     cc0-1.0|   264|\n",
      "|     epl-1.0|   193|\n",
      "|         isc|   176|\n",
      "|    lgpl-2.1|   131|\n",
      "|       wtfpl|    91|\n",
      "|     epl-2.0|    77|\n",
      "|cc-by-sa-4.0|    60|\n",
      "|   cc-by-4.0|    50|\n",
      "+------------+------+\n",
      "only showing top 20 rows\n",
      "\n"
     ]
    }
   ],
   "source": [
    "print(f\"Unique Languages: {raw_data.select('primarylanguage').distinct().count()}\")\n",
    "raw_data.groupby(\"primarylanguage\").count().sort(F.desc(\"count\")).show()\n",
    "print(f\"Unique Licenses: {raw_data.select('license').distinct().count()}\")\n",
    "raw_data.groupby(\"license\").count().sort(F.desc(\"count\")).show()"
   ]
  },
  {
   "cell_type": "markdown",
   "metadata": {},
   "source": [
    "## Min-Max Feature Scaling\n",
    "For the sake of interpretability, the number of stars a repository has is scaled between 0 and 1.\n",
    "This essentially means that the least popular repositories have 0% popularity and most popular 100%."
   ]
  },
  {
   "cell_type": "code",
   "execution_count": 8,
   "metadata": {},
   "outputs": [],
   "source": [
    "assembler = VectorAssembler(inputCols=[\"stars\"], outputCol=\"starsVector\")\n",
    "scaler = MinMaxScaler(inputCol=\"starsVector\", outputCol=\"target\")"
   ]
  },
  {
   "cell_type": "markdown",
   "metadata": {},
   "source": [
    "## Text Features\n",
    "There are several text fields to deal with:\n",
    "* Name\n",
    "* Description\n",
    "* Topics\n",
    "* README\n",
    "\n",
    "To start off with we don't *know for sure* what will be most useful for our model (yet), and it tends to be computationally expensive to process every feature here.\n",
    "Hence, we can start with what seems reasonable.\n",
    "\n",
    "People remember names, but names are also extremely sparse (i.e. names are normally only used once per project) and so they'll be hard to process.\n",
    "Topics tend to be categories like programming language and technology stack was used.\n",
    "They're likely useful, but it's probably best to just use the primary programming language field for now.\n",
    "Descriptions and read readmes are the first thing anyone sees from a project (and first impressions count).\n",
    "Descriptions are short and so should be relatively easy to deal with, but are equally vague.\n",
    "Readme's tend to be very long... but it's likely the rough outlines (i.e. headings) along with the first few paragraphs convey what the project is about.\n",
    "It is possible that all features are valuable, but the computational power needed to analyse them using deep learning techniques would be too great."
   ]
  },
  {
   "cell_type": "code",
   "execution_count": 9,
   "metadata": {},
   "outputs": [],
   "source": [
    "extract_text_features = ExtractTextFeatures(\"readme\")"
   ]
  },
  {
   "cell_type": "code",
   "execution_count": 10,
   "metadata": {},
   "outputs": [],
   "source": [
    "# raw_data = raw_data.drop(\"name\", \"description\", \"topics\", \"readme\")"
   ]
  },
  {
   "cell_type": "markdown",
   "metadata": {},
   "source": [
    "## Create and Run Pipeline\n",
    "Chain all the data processing processes together into the one pipeline!\n",
    "The final data is divided into training and testing datasets."
   ]
  },
  {
   "cell_type": "code",
   "execution_count": 11,
   "metadata": {},
   "outputs": [],
   "source": [
    "cleanup = CleanUp(\"target\")"
   ]
  },
  {
   "cell_type": "code",
   "execution_count": 12,
   "metadata": {},
   "outputs": [],
   "source": [
    "pipeline = Pipeline(stages=[drop, assembler, scaler, cast_to_int, extract_text_features, cleanup])\n",
    "data = pipeline.fit(raw_data).transform(raw_data)"
   ]
  },
  {
   "cell_type": "code",
   "execution_count": 13,
   "metadata": {},
   "outputs": [],
   "source": [
    "train_data, test_data = data.randomSplit([0.8, 0.2], seed=1)"
   ]
  },
  {
   "cell_type": "markdown",
   "metadata": {},
   "source": [
    "## Modelling\n",
    "Start H2O, train as many models as possible and show results (including a variable importance plot).\n",
    "The plot is for the *best model which provides variable importance* (typically not the best model as `StackedEnsemble`'s do not)."
   ]
  },
  {
   "cell_type": "code",
   "execution_count": 14,
   "metadata": {},
   "outputs": [
    {
     "name": "stdout",
     "output_type": "stream",
     "text": [
      "Connecting to H2O server at http://207.148.81.217:54321 ... successful.\n"
     ]
    },
    {
     "data": {
      "text/html": [
       "<div style=\"overflow:auto\"><table style=\"width:50%\"><tr><td>H2O_cluster_uptime:</td>\n",
       "<td>09 secs</td></tr>\n",
       "<tr><td>H2O_cluster_timezone:</td>\n",
       "<td>Etc/UTC</td></tr>\n",
       "<tr><td>H2O_data_parsing_timezone:</td>\n",
       "<td>UTC</td></tr>\n",
       "<tr><td>H2O_cluster_version:</td>\n",
       "<td>3.30.1.1</td></tr>\n",
       "<tr><td>H2O_cluster_version_age:</td>\n",
       "<td>15 days </td></tr>\n",
       "<tr><td>H2O_cluster_name:</td>\n",
       "<td>sparkling-water-kamron_local-1598366475026</td></tr>\n",
       "<tr><td>H2O_cluster_total_nodes:</td>\n",
       "<td>1</td></tr>\n",
       "<tr><td>H2O_cluster_free_memory:</td>\n",
       "<td>11.56 Gb</td></tr>\n",
       "<tr><td>H2O_cluster_total_cores:</td>\n",
       "<td>6</td></tr>\n",
       "<tr><td>H2O_cluster_allowed_cores:</td>\n",
       "<td>6</td></tr>\n",
       "<tr><td>H2O_cluster_status:</td>\n",
       "<td>locked, healthy</td></tr>\n",
       "<tr><td>H2O_connection_url:</td>\n",
       "<td>http://207.148.81.217:54321</td></tr>\n",
       "<tr><td>H2O_connection_proxy:</td>\n",
       "<td>null</td></tr>\n",
       "<tr><td>H2O_internal_security:</td>\n",
       "<td>False</td></tr>\n",
       "<tr><td>H2O_API_Extensions:</td>\n",
       "<td>XGBoost, Algos, Amazon S3, Sparkling Water REST API Extensions, AutoML, Core V3, TargetEncoder, Core V4</td></tr>\n",
       "<tr><td>Python_version:</td>\n",
       "<td>3.8.5 final</td></tr></table></div>"
      ],
      "text/plain": [
       "--------------------------  -------------------------------------------------------------------------------------------------------\n",
       "H2O_cluster_uptime:         09 secs\n",
       "H2O_cluster_timezone:       Etc/UTC\n",
       "H2O_data_parsing_timezone:  UTC\n",
       "H2O_cluster_version:        3.30.1.1\n",
       "H2O_cluster_version_age:    15 days\n",
       "H2O_cluster_name:           sparkling-water-kamron_local-1598366475026\n",
       "H2O_cluster_total_nodes:    1\n",
       "H2O_cluster_free_memory:    11.56 Gb\n",
       "H2O_cluster_total_cores:    6\n",
       "H2O_cluster_allowed_cores:  6\n",
       "H2O_cluster_status:         locked, healthy\n",
       "H2O_connection_url:         http://207.148.81.217:54321\n",
       "H2O_connection_proxy:       null\n",
       "H2O_internal_security:      False\n",
       "H2O_API_Extensions:         XGBoost, Algos, Amazon S3, Sparkling Water REST API Extensions, AutoML, Core V3, TargetEncoder, Core V4\n",
       "Python_version:             3.8.5 final\n",
       "--------------------------  -------------------------------------------------------------------------------------------------------"
      ]
     },
     "metadata": {},
     "output_type": "display_data"
    },
    {
     "name": "stdout",
     "output_type": "stream",
     "text": [
      "\n",
      "Sparkling Water Context:\n",
      " * Sparkling Water Version: 3.30.1.1-1-3.0\n",
      " * H2O name: sparkling-water-kamron_local-1598366475026\n",
      " * cluster size: 1\n",
      " * list of used nodes:\n",
      "  (executorId, host, port)\n",
      "  ------------------------\n",
      "  (0,207.148.81.217,54321)\n",
      "  ------------------------\n",
      "\n",
      "  Open H2O Flow in browser: http://207.148.81.217:54323 (CMD + click in Mac OSX)\n",
      "\n",
      "    \n",
      "\n",
      "Sparkling Water Context:\n",
      " * Sparkling Water Version: 3.30.1.1-1-3.0\n",
      " * H2O name: sparkling-water-kamron_local-1598366475026\n",
      " * cluster size: 1\n",
      " * list of used nodes:\n",
      "  (executorId, host, port)\n",
      "  ------------------------\n",
      "  (0,207.148.81.217,54321)\n",
      "  ------------------------\n",
      "\n",
      "  Open H2O Flow in browser: http://207.148.81.217:54323 (CMD + click in Mac OSX)\n",
      "\n",
      "    \n"
     ]
    },
    {
     "data": {
      "text/plain": []
     },
     "execution_count": 14,
     "metadata": {},
     "output_type": "execute_result"
    }
   ],
   "source": [
    "H2OContext.getOrCreate()"
   ]
  },
  {
   "cell_type": "code",
   "execution_count": 15,
   "metadata": {},
   "outputs": [],
   "source": [
    "automl = H2OAutoML(maxRuntimeSecs=120, labelCol=\"target\", convertUnknownCategoricalLevelsToNa=True, convertInvalidNumbersToNa=True, seed=1)\n",
    "model = automl.fit(train_data)\n",
    "results = model.transform(test_data)"
   ]
  },
  {
   "cell_type": "code",
   "execution_count": 16,
   "metadata": {},
   "outputs": [
    {
     "name": "stdout",
     "output_type": "stream",
     "text": [
      "+----+-----------+------+-------+------+---------------+-------------------+-------------------+----+--------+------+-------+------+------+------+--------------------+--------------------+\n",
      "|name|description|topics|license|readme|primarylanguage|        createddate|     lastpusheddate|fork|archived|locked|commits|target|titles|length| detailed_prediction|          prediction|\n",
      "+----+-----------+------+-------+------+---------------+-------------------+-------------------+----+--------+------+-------+------+------+------+--------------------+--------------------+\n",
      "|   -|       null|  null|   null|  null|           null|2016-01-31 10:52:18|2016-01-31 10:52:18|   0|       0|     0|      0|   0.0|  null|  null|[-7.7959725387281...| -7.7959725387281E-6|\n",
      "|   -|       null|  null|   null|  null|           null|2016-04-30 06:12:02|2016-04-30 06:12:03|   0|       0|     0|      0|   0.0|  null|  null|[-1.0777624878424...|-1.07776248784246...|\n",
      "|   -|       null|  null|   null|  null|           null|2016-05-13 01:41:14|2016-05-13 01:41:15|   0|       0|     0|      0|   0.0|  null|  null|[-1.1203000260635...|-1.12030002606352...|\n",
      "|   -|       null|  null|   null|  null|           null|2016-06-03 10:05:32|2016-06-03 10:05:33|   0|       0|     0|      0|   0.0|  null|  null|[-1.1925518850424...|-1.19255188504245...|\n",
      "|   -|       null|  null|   null|  null|           null|2016-06-27 09:09:52|2016-06-27 09:15:40|   0|       0|     0|      3|   0.0|  null|  null|[-1.2705294739008...|-1.27052947390080...|\n",
      "|   -|       null|  null|   null|  null|           null|2016-09-07 04:03:48|2016-09-07 04:03:48|   0|       0|     0|      0|   0.0|  null|  null|[-1.5104537508759...|-1.51045375087597...|\n",
      "|   -|       null|  null|   null|  null|           null|2016-09-24 13:32:33|2016-09-24 13:32:33|   0|       0|     0|      0|   0.0|  null|  null|[-1.5682075917214...|-1.56820759172140...|\n",
      "|   -|       null|  null|   null|  null|           null|2016-09-29 02:01:47|2016-09-29 02:01:48|   0|       0|     0|      0|   0.0|  null|  null|[-1.5832138628231...|-1.58321386282318...|\n",
      "|   -|       null|  null|   null|  null|           null|2016-11-01 06:06:17|2016-11-01 06:06:18|   0|       0|     0|      0|   0.0|  null|  null|[-1.6933424453295...|-1.69334244532959...|\n",
      "|   -|       null|  null|   null|  null|           null|2016-11-06 09:40:30|2016-11-06 09:40:30|   0|       0|     0|      0|   0.0|  null|  null|[-1.7104388825601...|-1.71043888256011...|\n",
      "|   -|       null|  null|   null|  null|           null|2016-11-16 08:42:54|2016-11-16 08:42:54|   0|       0|     0|      0|   0.0|  null|  null|[-1.7435075461429...|-1.74350754614292...|\n",
      "|   -|       null|  null|   null|  null|           null|2016-11-20 15:57:48|2016-11-20 15:57:48|   0|       0|     0|      0|   0.0|  null|  null|[-1.7577908644187...|-1.75779086441877...|\n",
      "|   -|       null|  null|   null|  null|           null|2016-12-06 06:15:47|2016-12-06 06:15:48|   0|       0|     0|      0|   0.0|  null|  null|[-1.8095694921922...|-1.80956949219226...|\n",
      "|   -|       null|  null|   null|  null|           null|2016-12-21 04:37:21|2016-12-21 04:37:21|   0|       0|     0|      0|   0.0|  null|  null|[-1.8591465350344...|-1.85914653503440...|\n",
      "|   -|       null|  null|   null|  null|           null|2017-01-23 12:46:55|2017-01-23 12:46:55|   0|       0|     0|      0|   0.0|  null|  null|[-1.9698401573641...|-1.96984015736413...|\n",
      "|   -|       null|  null|   null|  null|           null|2017-01-24 01:14:38|2017-01-24 01:14:38|   0|       0|     0|      0|   0.0|  null|  null|[-1.9715641359798...|-1.97156413597987...|\n",
      "|   -|       null|  null|   null|  null|           null|2017-02-20 08:13:26|2017-02-20 08:13:26|   0|       0|     0|      0|   0.0|  null|  null|[-2.0618469604348...|-2.06184696043480...|\n",
      "|   -|       null|  null|   null|  null|           null|2017-02-23 04:54:13|2017-02-23 04:54:13|   0|       0|     0|      0|   0.0|  null|  null|[-2.0713480758509...|-2.07134807585091...|\n",
      "|   -|       null|  null|   null|  null|           null|2017-03-06 03:50:11|2017-03-06 03:50:12|   0|       0|     0|      0|   0.0|  null|  null|[-2.1077202611033...|-2.10772026110334...|\n",
      "|   -|       null|  null|   null|  null|           null|2017-03-15 10:21:46|2017-03-15 10:21:46|   0|       0|     0|      0|   0.0|  null|  null|[-2.1385062329212...|-2.13850623292121...|\n",
      "+----+-----------+------+-------+------+---------------+-------------------+-------------------+----+--------+------+-------+------+------+------+--------------------+--------------------+\n",
      "only showing top 20 rows\n",
      "\n",
      "+---+---------------------------------------------------+----------------------+---------------------+---------------------+---------------------+--------------------+\n",
      "|   |model_id                                           |mean_residual_deviance|rmse                 |mse                  |mae                  |rmsle               |\n",
      "+---+---------------------------------------------------+----------------------+---------------------+---------------------+---------------------+--------------------+\n",
      "|0  |StackedEnsemble_BestOfFamily_AutoML_20200825_144239|3.124664418620334E-5  |0.0055898697825802115|3.124664418620334E-5 |2.732919663288982E-4 |0.004312642682355009|\n",
      "|1  |StackedEnsemble_AllModels_AutoML_20200825_144239   |3.129196472035975E-5  |0.005593922123194043 |3.129196472035975E-5 |2.78013338480406E-4  |0.004317503850305797|\n",
      "|2  |GBM_2_AutoML_20200825_144239                       |3.1901173327857585E-5 |0.005648112368557975 |3.1901173327857585E-5|2.3258288628557968E-4|0.004356163103088974|\n",
      "|3  |GLM_1_AutoML_20200825_144239                       |3.2179441800381996E-5 |0.0056726926410992865|3.2179441800381996E-5|2.8240582702590165E-4|0.004382078691792614|\n",
      "|4  |GBM_1_AutoML_20200825_144239                       |3.225061128261037E-5  |0.005678962165978073 |3.225061128261037E-5 |2.3332580737779905E-4|0.00438908006349569 |\n",
      "|5  |GBM_4_AutoML_20200825_144239                       |3.232040459676234E-5  |0.005685103745470468 |3.232040459676234E-5 |2.3587220450503165E-4|0.004394240760684422|\n",
      "|6  |GBM_3_AutoML_20200825_144239                       |3.234098667633895E-5  |0.005686913633627554 |3.234098667633895E-5 |2.3423155177774071E-4|0.004395980991664449|\n",
      "|7  |GBM_5_AutoML_20200825_144239                       |3.2349259623521864E-5 |0.005687640954167366 |3.2349259623521864E-5|2.365800683943921E-4 |0.004396800371160838|\n",
      "|8  |DRF_1_AutoML_20200825_144239                       |5.985500762014496E-5  |0.007736601813467264 |5.985500762014496E-5 |2.3935858153473292E-4|0.006031673274228617|\n",
      "|9  |XGBoost_1_AutoML_20200825_144239                   |0.12246717219407831   |0.3499530999920965   |0.12246717219407831  |0.3499437725459428   |0.30004580408542264 |\n",
      "|10 |XGBoost_3_AutoML_20200825_144239                   |0.12246880318213797   |0.34995543027954     |0.12246880318213797  |0.34994610294154715  |0.30004753020950137 |\n",
      "|11 |XGBoost_2_AutoML_20200825_144239                   |0.12246951227188327   |0.34995644339243603  |0.12246951227188327  |0.3499471160755305   |0.30004828066500433 |\n",
      "+---+---------------------------------------------------+----------------------+---------------------+---------------------+---------------------+--------------------+\n",
      "\n"
     ]
    }
   ],
   "source": [
    "results.show()\n",
    "automl.getLeaderboard().show(truncate=False)"
   ]
  },
  {
   "cell_type": "code",
   "execution_count": 18,
   "metadata": {},
   "outputs": [
    {
     "name": "stdout",
     "output_type": "stream",
     "text": [
      "Warning: This model doesn't have variable importances\n",
      "Warning: This model doesn't have variable importances\n"
     ]
    },
    {
     "data": {
      "image/png": "[encoded data removed]",
      "text/plain": [
       "<Figure size 1008x720 with 1 Axes>"
      ]
     },
     "metadata": {
      "needs_background": "light"
     },
     "output_type": "display_data"
    }
   ],
   "source": [
    "def var_imp(model_id):\n",
    "    try: h2o.get_model(model_id).varimp_plot();\n",
    "    except: return False\n",
    "\n",
    "for model in automl.getLeaderboard().collect():\n",
    "    if var_imp(model[\"model_id\"]) != False: break"
   ]
  },
  {
   "cell_type": "code",
   "execution_count": null,
   "metadata": {},
   "outputs": [],
   "source": []
  }
 ],
 "metadata": {
  "kernelspec": {
   "display_name": "Python 3",
   "language": "python",
   "name": "python3"
  },
  "language_info": {
   "codemirror_mode": {
    "name": "ipython",
    "version": 3
   },
   "file_extension": ".py",
   "mimetype": "text/x-python",
   "name": "python",
   "nbconvert_exporter": "python",
   "pygments_lexer": "ipython3",
   "version": "3.8.5"
  }
 },
 "nbformat": 4,
 "nbformat_minor": 4
}
