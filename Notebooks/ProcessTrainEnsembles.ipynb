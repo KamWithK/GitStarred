{
 "cells": [
  {
   "cell_type": "code",
   "execution_count": 1,
   "metadata": {},
   "outputs": [],
   "source": [
    "from pathlib import Path\n",
    "from Pipeline.Processor import Processor\n",
    "from Modelling.H2OSparkAutoML import H2OSparkAutoML\n",
    "from Pipeline.Components import RemoveColumns, CastToInt, ExtractTextFeatures, CleanUp\n",
    "from pyspark.ml.feature import StandardScaler, VectorAssembler, QuantileDiscretizer\n",
    "from petastorm.unischema import Unischema, UnischemaField\n",
    "from IPython.core.interactiveshell import InteractiveShell\n",
    "\n",
    "InteractiveShell.ast_node_interactivity = \"all\""
   ]
  },
  {
   "cell_type": "code",
   "execution_count": 2,
   "metadata": {},
   "outputs": [],
   "source": [
    "pipeline = Processor(\"jdbc:postgresql:GitHubData\", \"program\", \"DatabaseAccess\", load_percent=10)"
   ]
  },
  {
   "cell_type": "code",
   "execution_count": 3,
   "metadata": {},
   "outputs": [
    {
     "name": "stdout",
     "output_type": "stream",
     "text": [
      "+-----+-------+\n",
      "|stars|  count|\n",
      "+-----+-------+\n",
      "|    0|4028273|\n",
      "|    1| 240455|\n",
      "|    2|  63891|\n",
      "|    3|  30552|\n",
      "|    4|  18236|\n",
      "|    5|  12535|\n",
      "|    6|   8930|\n",
      "|    7|   6918|\n",
      "|    8|   5547|\n",
      "|    9|   4458|\n",
      "|   10|   3758|\n",
      "|   11|   3141|\n",
      "|   12|   2618|\n",
      "|   13|   2345|\n",
      "|   14|   2123|\n",
      "|   15|   1790|\n",
      "|   16|   1690|\n",
      "|   17|   1498|\n",
      "|   18|   1385|\n",
      "|   19|   1204|\n",
      "+-----+-------+\n",
      "only showing top 20 rows\n",
      "\n"
     ]
    }
   ],
   "source": [
    "pipeline.raw_data.groupby(\"stars\").count().orderBy(\"count\", ascending=False).show()"
   ]
  },
  {
   "cell_type": "code",
   "execution_count": 4,
   "metadata": {},
   "outputs": [],
   "source": [
    "# Remove alternative popularity metrics (which aren't used)\n",
    "drop = RemoveColumns(\"id\", \"forkcount\", \"watchs\", \"users\", \"issues\", \"pullrequests\", \"commits\")\n",
    "\n",
    "# Convert boolean values into integers (0's and 1's) to avoid problems when testing (caused by type casting)\n",
    "cast_to_int = CastToInt(\"fork\", \"locked\", \"archived\")\n",
    "\n",
    "# Feature scaling\n",
    "assembler = VectorAssembler(inputCols=[\"stars\"], outputCol=\"starsVector\")\n",
    "scaler = StandardScaler(inputCol=\"starsVector\", outputCol=\"target\")\n",
    "\n",
    "# Temporarily remove all text features (until they're used) and clean vector column\n",
    "# drop.columns = [*drop.columns, \"name\", \"description\", \"topics\", \"readme\"]\n",
    "extract_text_features = ExtractTextFeatures(\"readme\")\n",
    "drop_new = RemoveColumns(\"readme\", \"titles\", \"name\", \"description\", \"topics\")\n",
    "cleanup = CleanUp(\"target\")"
   ]
  },
  {
   "cell_type": "code",
   "execution_count": 5,
   "metadata": {},
   "outputs": [
    {
     "name": "stdout",
     "output_type": "stream",
     "text": [
      "+----------+----------------+-------------------+-------------------+----+--------+------+-----+--------------------+------+\n",
      "|   license| primarylanguage|        createddate|     lastpusheddate|fork|archived|locked|split|              target|length|\n",
      "+----------+----------------+-------------------+-------------------+----+--------+------+-----+--------------------+------+\n",
      "|       mit|Jupyter Notebook|2016-06-18 00:51:28|2016-08-19 17:33:09|   0|       0|     0|  5.0| 0.05115268489844716|  5667|\n",
      "|       mit|            Java|2016-07-13 18:31:17|2017-06-12 01:41:16|   0|       0|     0|  6.0|  0.6342932927407448|  3164|\n",
      "|     other|             CSS|2016-07-13 18:53:48|2020-06-14 07:38:04|   0|       0|     0|  1.0|                 0.0|   538|\n",
      "|apache-2.0|              Go|2016-07-13 18:31:01|2017-05-24 00:43:35|   0|       0|     0|  4.0|0.030691610939068296|   247|\n",
      "|apache-2.0|            Java|2016-07-13 18:32:19|2018-05-03 00:27:30|   0|       0|     0|  1.0|                 0.0|   250|\n",
      "|     other|            Ruby|2019-08-08 20:53:28|2019-08-10 23:28:18|   0|       0|     0|  1.0|                 0.0|  3091|\n",
      "|   gpl-3.0|             CSS|2019-08-08 20:54:05|2019-08-17 18:32:22|   0|       0|     0|  1.0|                 0.0|  3347|\n",
      "|       mit|      JavaScript|2019-08-08 20:29:50|2019-08-08 20:30:15|   0|       0|     0|  1.0|                 0.0|  5181|\n",
      "|       mit|              Go|2016-06-28 20:54:34|2017-08-23 16:28:21|   0|       0|     0|  6.0| 0.19438020261409922|  1165|\n",
      "|   gpl-2.0|               C|2016-06-24 00:53:27|2016-07-11 14:21:58|   0|       0|     0|  1.0|                 0.0|    38|\n",
      "|     other|      JavaScript|2016-07-19 15:20:24|2016-07-19 15:20:30|   0|       0|     0|  1.0|                 0.0|  2111|\n",
      "|     other|            Ruby|2016-07-19 15:15:07|2016-07-22 16:05:58|   0|       0|     0|  1.0|                 0.0|  1566|\n",
      "|   gpl-3.0|         Fortran|2019-01-03 08:18:37|2019-08-10 12:23:42|   0|       0|     0|  2.0|0.010230536979689432|  2901|\n",
      "|   gpl-3.0|          Python|2019-12-06 19:17:41|2019-12-06 19:23:51|   0|       0|     0|  1.0|                 0.0|  1461|\n",
      "|       mit|            HTML|2016-07-26 14:09:08|2016-09-15 10:55:21|   0|       0|     0|  5.0| 0.06138322187813659|  1688|\n",
      "|   bsl-1.0|             C++|2016-07-26 14:49:47|2018-08-08 16:30:56|   0|       0|     0|  6.0|  0.7365986625376391|  7075|\n",
      "|     other|         Haskell|2019-01-09 09:22:32|2019-02-06 20:30:28|   0|       0|     0|  1.0|                 0.0| 71480|\n",
      "|   gpl-3.0|            HTML|2016-06-30 20:58:58|2016-06-30 21:29:11|   0|       0|     0|  1.0|                 0.0|    54|\n",
      "|       mit|      JavaScript|2016-06-30 20:42:22|2017-05-30 20:52:13|   0|       0|     0|  6.0| 0.14322751771565206|  2837|\n",
      "|       mit|            HTML|2016-06-30 20:57:59|2017-04-02 18:55:22|   0|       0|     0|  1.0|                 0.0|  7427|\n",
      "+----------+----------------+-------------------+-------------------+----+--------+------+-----+--------------------+------+\n",
      "only showing top 20 rows\n",
      "\n"
     ]
    }
   ],
   "source": [
    "pipeline.process_data(drop, cast_to_int, assembler, scaler, extract_text_features, drop_new, cleanup, show=True)"
   ]
  },
  {
   "cell_type": "code",
   "execution_count": null,
   "metadata": {},
   "outputs": [],
   "source": [
    "# Train models\n",
    "automl = H2OSparkAutoML(pipeline.train_data, pipeline.test_data)\n",
    "model, results = automl.train_models(max_runtime=10)"
   ]
  },
  {
   "cell_type": "code",
   "execution_count": null,
   "metadata": {},
   "outputs": [],
   "source": [
    "results.show()"
   ]
  },
  {
   "cell_type": "code",
   "execution_count": null,
   "metadata": {},
   "outputs": [],
   "source": [
    "automl.get_leaderboard();"
   ]
  },
  {
   "cell_type": "code",
   "execution_count": null,
   "metadata": {},
   "outputs": [],
   "source": [
    "automl.visualise_best_model()"
   ]
  },
  {
   "cell_type": "code",
   "execution_count": null,
   "metadata": {},
   "outputs": [],
   "source": []
  }
 ],
 "metadata": {
  "kernelspec": {
   "display_name": "Python 3",
   "language": "python",
   "name": "python3"
  },
  "language_info": {
   "codemirror_mode": {
    "name": "ipython",
    "version": 3
   },
   "file_extension": ".py",
   "mimetype": "text/x-python",
   "name": "python",
   "nbconvert_exporter": "python",
   "pygments_lexer": "ipython3",
   "version": "3.8.5"
  }
 },
 "nbformat": 4,
 "nbformat_minor": 4
}