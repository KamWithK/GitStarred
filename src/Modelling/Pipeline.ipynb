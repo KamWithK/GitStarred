{
 "cells": [
  {
   "cell_type": "markdown",
   "metadata": {},
   "source": [
    "# Data Processing Pipeline to Train ML Models"
   ]
  },
  {
   "cell_type": "code",
   "execution_count": 1,
   "metadata": {},
   "outputs": [],
   "source": [
    "import h2o\n",
    "import os, requests\n",
    "\n",
    "import pyspark.sql.functions as F\n",
    "\n",
    "from pyspark.sql import SparkSession\n",
    "from pyspark.ml import Pipeline\n",
    "from pyspark.ml.feature import MinMaxScaler, VectorAssembler\n",
    "from PipelineComponents import RemoveColumns, CastToInt, CleanUp\n",
    "from pysparkling import H2OContext\n",
    "from pysparkling.ml import H2OAutoML\n",
    "from IPython.core.interactiveshell import InteractiveShell\n",
    "\n",
    "InteractiveShell.ast_node_interactivity = \"all\""
   ]
  },
  {
   "cell_type": "code",
   "execution_count": 2,
   "metadata": {},
   "outputs": [],
   "source": [
    "spark = SparkSession.builder.appName(\"GitStarred\").config(\"spark.jars.packages\", \"org.postgresql:postgresql:42.2.14\").config(\"spark.executor.memory\", \"13g\").config(\"spark.driver.memory\", \"13g\").getOrCreate()"
   ]
  },
  {
   "cell_type": "markdown",
   "metadata": {},
   "source": [
    "## Importing Data\n",
    "To reduce computational requirements, we use a small random subset of values for tests.\n",
    "A seed is used for reusability.\n",
    "\n",
    "To run on the full database, use the commented out code."
   ]
  },
  {
   "cell_type": "code",
   "execution_count": 3,
   "metadata": {},
   "outputs": [],
   "source": [
    "# raw_data = spark.read.jdbc(\"jdbc:postgresql:GitHubData\", \"Repositories\", properties={\"user\": \"program\", \"password\": \"DatabaseAccess\", \"driver\": \"org.postgresql.Driver\"})\n",
    "query = \"(SELECT * FROM Repositories TABLESAMPLE SYSTEM(10) REPEATABLE(1)) AS temp\"\n",
    "raw_data = spark.read.jdbc(\"jdbc:postgresql:GitHubData\", query, properties={\"user\": \"program\", \"password\": \"DatabaseAccess\", \"driver\": \"org.postgresql.Driver\"})"
   ]
  },
  {
   "cell_type": "markdown",
   "metadata": {},
   "source": [
    "## Exploratory Analysis\n",
    "We can start by viewing our columns and their relative data types.\n",
    "Look at one at a time and notice how they're similar or different to our natural expectations.\n",
    "Whilst doing this we'll notice that some features are now useless, some are very similar to others, and a few will far more effort to handle than others.\n",
    "\n",
    "*Note that showing values slows down the run on moderately sized data, so is commented out by default.*"
   ]
  },
  {
   "cell_type": "code",
   "execution_count": 4,
   "metadata": {},
   "outputs": [
    {
     "name": "stdout",
     "output_type": "stream",
     "text": [
      "root\n",
      " |-- id: string (nullable = true)\n",
      " |-- name: string (nullable = true)\n",
      " |-- description: string (nullable = true)\n",
      " |-- topics: string (nullable = true)\n",
      " |-- license: string (nullable = true)\n",
      " |-- readme: string (nullable = true)\n",
      " |-- primarylanguage: string (nullable = true)\n",
      " |-- createddate: timestamp (nullable = true)\n",
      " |-- lastpusheddate: timestamp (nullable = true)\n",
      " |-- fork: boolean (nullable = true)\n",
      " |-- archived: boolean (nullable = true)\n",
      " |-- locked: boolean (nullable = true)\n",
      " |-- forkcount: long (nullable = true)\n",
      " |-- commits: long (nullable = true)\n",
      " |-- issues: long (nullable = true)\n",
      " |-- pullrequests: long (nullable = true)\n",
      " |-- users: long (nullable = true)\n",
      " |-- watchs: long (nullable = true)\n",
      " |-- stars: long (nullable = true)\n",
      "\n",
      "4472070 rows\n"
     ]
    }
   ],
   "source": [
    "raw_data.printSchema()\n",
    "print(f\"{raw_data.count()} rows\")\n",
    "# raw_data.show(vertical=True)"
   ]
  },
  {
   "cell_type": "markdown",
   "metadata": {},
   "source": [
    "The first thing we can do is get rid of alternative popularity metrics like fork count and watch count (which won't be used)."
   ]
  },
  {
   "cell_type": "code",
   "execution_count": 5,
   "metadata": {},
   "outputs": [],
   "source": [
    "drop = RemoveColumns(\"id\", \"forkcount\", \"watchs\", \"users\", \"issues\", \"pullrequests\")"
   ]
  },
  {
   "cell_type": "markdown",
   "metadata": {},
   "source": [
    "The next thing we can see is that both textual and categorical values are encoded as strings.\n",
    "We luckily don't have to modify categorical strings, as H2O can naturally interpret them.\n",
    "However, actual text (i.e. readmes and descriptions) are far more complicated and so we need to convert them into a numeric representation (through natural language processing techniques) later on.\n",
    "\n",
    "*Note that most ML libraries like MLLib can't interpret categories, and so require conversion to numeric values (normally through a `StringIndexer` or `OneHotEncoder`).*\n",
    "\n",
    "Remember that boolean values should be manually converted to integers (0's and 1's) to avoid any problems later during testing."
   ]
  },
  {
   "cell_type": "code",
   "execution_count": 6,
   "metadata": {},
   "outputs": [],
   "source": [
    "cast_to_int = CastToInt(\"fork\", \"locked\", \"archived\")"
   ]
  },
  {
   "cell_type": "markdown",
   "metadata": {},
   "source": [
    "We can take a look at our categorical columns distribution of values (for language and license) now"
   ]
  },
  {
   "cell_type": "code",
   "execution_count": 7,
   "metadata": {},
   "outputs": [
    {
     "name": "stdout",
     "output_type": "stream",
     "text": [
      "Unique Languages: 363\n",
      "+----------------+-------+\n",
      "| primarylanguage|  count|\n",
      "+----------------+-------+\n",
      "|            null|1373014|\n",
      "|      JavaScript| 597934|\n",
      "|            Java| 488969|\n",
      "|            HTML| 428438|\n",
      "|          Python| 308990|\n",
      "|             CSS| 142406|\n",
      "|             PHP| 137119|\n",
      "|              C#| 132909|\n",
      "|             C++| 118971|\n",
      "|            Ruby|  83194|\n",
      "|               C|  78288|\n",
      "|Jupyter Notebook|  76810|\n",
      "|      TypeScript|  74209|\n",
      "|           Shell|  57242|\n",
      "|           Swift|  48037|\n",
      "|              Go|  36417|\n",
      "|     Objective-C|  25818|\n",
      "|               R|  25606|\n",
      "|             Vue|  19566|\n",
      "|          Kotlin|  18310|\n",
      "+----------------+-------+\n",
      "only showing top 20 rows\n",
      "\n",
      "Unique Licenses: 38\n",
      "+------------+-------+\n",
      "|     license|  count|\n",
      "+------------+-------+\n",
      "|        null|3865370|\n",
      "|         mit| 305752|\n",
      "|  apache-2.0|  82900|\n",
      "|     gpl-3.0|  80891|\n",
      "|       other|  78213|\n",
      "|     gpl-2.0|  13578|\n",
      "|bsd-3-clause|   9130|\n",
      "|   unlicense|   7872|\n",
      "|    agpl-3.0|   5484|\n",
      "|    lgpl-3.0|   4465|\n",
      "|bsd-2-clause|   3849|\n",
      "|     mpl-2.0|   3038|\n",
      "|     cc0-1.0|   2432|\n",
      "|     epl-1.0|   1926|\n",
      "|         isc|   1875|\n",
      "|    lgpl-2.1|   1288|\n",
      "|       wtfpl|    907|\n",
      "|     epl-2.0|    806|\n",
      "|cc-by-sa-4.0|    584|\n",
      "|   cc-by-4.0|    489|\n",
      "+------------+-------+\n",
      "only showing top 20 rows\n",
      "\n"
     ]
    }
   ],
   "source": [
    "print(f\"Unique Languages: {raw_data.select('primarylanguage').distinct().count()}\")\n",
    "raw_data.groupby(\"primarylanguage\").count().sort(F.desc(\"count\")).show()\n",
    "print(f\"Unique Licenses: {raw_data.select('license').distinct().count()}\")\n",
    "raw_data.groupby(\"license\").count().sort(F.desc(\"count\")).show()"
   ]
  },
  {
   "cell_type": "markdown",
   "metadata": {},
   "source": [
    "## Min-Max Feature Scaling\n",
    "For the sake of interpretability, the number of stars a repository has is scaled between 0 and 1.\n",
    "This essentially means that the least popular repositories have 0% popularity and most popular 100%."
   ]
  },
  {
   "cell_type": "code",
   "execution_count": 8,
   "metadata": {},
   "outputs": [],
   "source": [
    "assembler = VectorAssembler(inputCols=[\"stars\"], outputCol=\"starsVector\")\n",
    "scaler = MinMaxScaler(inputCol=\"starsVector\", outputCol=\"target\")"
   ]
  },
  {
   "cell_type": "markdown",
   "metadata": {},
   "source": [
    "## Text Features\n",
    "There are several text fields to deal with:\n",
    "* Name\n",
    "* Description\n",
    "* Topics\n",
    "* README\n",
    "\n",
    "To start off with we don't *know for sure* what will be most useful for our model (yet), and it tends to be computationally expensive to process every feature here.\n",
    "Hence, we can start with what seems reasonable.\n",
    "\n",
    "*Note that **work on the text hasn't yet begun, so all text features have been temporarily removed**.*\n",
    "\n",
    "People remember names, but names are also extremely sparse (i.e. names are normally only used once per project) and so they'll be hard to process.\n",
    "Topics tend to be categories like programming language and technology stack was used.\n",
    "They're likely useful, but it's probably best to just use the primary programming language field for now.\n",
    "Descriptions and read readmes are the first thing anyone sees from a project (and first impressions count).\n",
    "Descriptions are short and so should be relatively easy to deal with, but are equally vague.\n",
    "Readme's tend to be very long... but it's likely the rough outlines (i.e. headings) along with the first few paragraphs convey what the project is about.\n",
    "It is possible that all features are valuable, but the computational power needed to analyse them using deep learning techniques would be too great."
   ]
  },
  {
   "cell_type": "code",
   "execution_count": 9,
   "metadata": {},
   "outputs": [],
   "source": [
    "raw_data = raw_data.drop(\"name\", \"description\", \"topics\", \"readme\")"
   ]
  },
  {
   "cell_type": "markdown",
   "metadata": {},
   "source": [
    "## Create and Run Pipeline\n",
    "Chain all the data processing processes together into the one pipeline!\n",
    "The final data is divided into training and testing datasets."
   ]
  },
  {
   "cell_type": "code",
   "execution_count": 10,
   "metadata": {},
   "outputs": [],
   "source": [
    "cleanup = CleanUp(\"target\")"
   ]
  },
  {
   "cell_type": "code",
   "execution_count": 11,
   "metadata": {},
   "outputs": [],
   "source": [
    "pipeline = Pipeline(stages=[drop, assembler, scaler, cast_to_int, cleanup])\n",
    "data = pipeline.fit(raw_data).transform(raw_data)\n",
    "train_data, test_data = data.randomSplit([0.8, 0.2], seed=1)"
   ]
  },
  {
   "cell_type": "code",
   "execution_count": 12,
   "metadata": {},
   "outputs": [
    {
     "name": "stdout",
     "output_type": "stream",
     "text": [
      "+-------+----------------+-------------------+-------------------+----+--------+------+-------+--------------------+\n",
      "|license| primarylanguage|        createddate|     lastpusheddate|fork|archived|locked|commits|              target|\n",
      "+-------+----------------+-------------------+-------------------+----+--------+------+-------+--------------------+\n",
      "|   null|              Go|2016-06-18 00:00:06|2016-06-18 01:44:27|   0|       0|     0|      2|                 0.0|\n",
      "|   null|          Python|2016-06-18 00:30:21|2016-06-20 01:37:19|   0|       0|     0|     19|                 0.0|\n",
      "|   null|            HTML|2016-06-18 00:31:21|2016-06-21 22:53:20|   0|       0|     0|     19|                 0.0|\n",
      "|   null|               C|2016-06-18 00:33:36|2016-06-18 00:43:46|   0|       0|     0|     10|                 0.0|\n",
      "|   null|            HTML|2016-06-18 00:37:56|2016-06-18 00:43:34|   0|       0|     0|      1|                 0.0|\n",
      "|   null|            null|2016-06-18 00:47:48|2016-06-18 00:47:49|   0|       0|     0|      0|                 0.0|\n",
      "|   null|            HTML|2016-06-18 00:51:10|2016-06-18 01:02:35|   0|       0|     0|      4|                 0.0|\n",
      "|    mit|Jupyter Notebook|2016-06-18 00:51:28|2016-08-19 17:33:09|   0|       0|     0|    207|5.533115697449233...|\n",
      "|   null|          Python|2016-06-18 00:04:33|2016-06-18 00:13:03|   0|       0|     0|      1|                 0.0|\n",
      "|   null|            Java|2016-06-18 00:06:13|2016-06-18 00:10:32|   0|       0|     0|      3|                 0.0|\n",
      "|   null|            null|2016-06-18 00:07:16|2016-06-18 00:20:43|   0|       0|     0|      4|                 0.0|\n",
      "|   null|            null|2016-06-18 00:07:43|2016-05-22 11:44:51|   0|       0|     0|     15|                 0.0|\n",
      "|   null|            null|2016-06-18 00:08:34|2016-06-18 00:08:34|   0|       0|     0|      1|                 0.0|\n",
      "|   null|            HTML|2016-06-18 00:10:37|2016-10-06 18:33:53|   0|       0|     0|     14|                 0.0|\n",
      "|   null|            null|2016-06-18 00:11:48|2016-08-04 06:16:09|   0|       0|     0|      6|                 0.0|\n",
      "|   null|            Java|2016-06-18 00:13:34|2019-07-31 06:54:35|   0|       0|     0|    147|                 0.0|\n",
      "|   null|      JavaScript|2016-06-18 00:14:34|2017-01-19 04:46:16|   0|       0|     0|      0|2.213246278979693...|\n",
      "|   null|            null|2016-06-18 00:29:51|2016-06-18 00:29:52|   0|       0|     0|      0|                 0.0|\n",
      "|   null|      JavaScript|2016-06-18 00:59:22|2016-08-18 01:30:19|   0|       0|     0|     31|                 0.0|\n",
      "|   null|            HTML|2016-06-18 01:01:00|2016-07-11 03:55:46|   0|       0|     0|    289|                 0.0|\n",
      "+-------+----------------+-------------------+-------------------+----+--------+------+-------+--------------------+\n",
      "only showing top 20 rows\n",
      "\n"
     ]
    }
   ],
   "source": [
    "data.show()"
   ]
  },
  {
   "cell_type": "markdown",
   "metadata": {},
   "source": [
    "## Modelling\n",
    "Start H2O, train as many models as possible and show results (including a variable importance plot).\n",
    "The plot is for the *best model which provides variable importance* (typically not the best model as `StackedEnsemble`'s do not)."
   ]
  },
  {
   "cell_type": "code",
   "execution_count": 13,
   "metadata": {},
   "outputs": [
    {
     "name": "stdout",
     "output_type": "stream",
     "text": [
      "Connecting to H2O server at http://207.148.81.217:54321 ... successful.\n"
     ]
    },
    {
     "data": {
      "text/html": [
       "<div style=\"overflow:auto\"><table style=\"width:50%\"><tr><td>H2O_cluster_uptime:</td>\n",
       "<td>08 secs</td></tr>\n",
       "<tr><td>H2O_cluster_timezone:</td>\n",
       "<td>Etc/UTC</td></tr>\n",
       "<tr><td>H2O_data_parsing_timezone:</td>\n",
       "<td>UTC</td></tr>\n",
       "<tr><td>H2O_cluster_version:</td>\n",
       "<td>3.30.0.7</td></tr>\n",
       "<tr><td>H2O_cluster_version_age:</td>\n",
       "<td>19 days </td></tr>\n",
       "<tr><td>H2O_cluster_name:</td>\n",
       "<td>sparkling-water-kamron_local-1597069269346</td></tr>\n",
       "<tr><td>H2O_cluster_total_nodes:</td>\n",
       "<td>1</td></tr>\n",
       "<tr><td>H2O_cluster_free_memory:</td>\n",
       "<td>11.56 Gb</td></tr>\n",
       "<tr><td>H2O_cluster_total_cores:</td>\n",
       "<td>6</td></tr>\n",
       "<tr><td>H2O_cluster_allowed_cores:</td>\n",
       "<td>6</td></tr>\n",
       "<tr><td>H2O_cluster_status:</td>\n",
       "<td>locked, healthy</td></tr>\n",
       "<tr><td>H2O_connection_url:</td>\n",
       "<td>http://207.148.81.217:54321</td></tr>\n",
       "<tr><td>H2O_connection_proxy:</td>\n",
       "<td>null</td></tr>\n",
       "<tr><td>H2O_internal_security:</td>\n",
       "<td>False</td></tr>\n",
       "<tr><td>H2O_API_Extensions:</td>\n",
       "<td>XGBoost, Algos, Amazon S3, Sparkling Water REST API Extensions, AutoML, Core V3, TargetEncoder, Core V4</td></tr>\n",
       "<tr><td>Python_version:</td>\n",
       "<td>3.8.3 final</td></tr></table></div>"
      ],
      "text/plain": [
       "--------------------------  -------------------------------------------------------------------------------------------------------\n",
       "H2O_cluster_uptime:         08 secs\n",
       "H2O_cluster_timezone:       Etc/UTC\n",
       "H2O_data_parsing_timezone:  UTC\n",
       "H2O_cluster_version:        3.30.0.7\n",
       "H2O_cluster_version_age:    19 days\n",
       "H2O_cluster_name:           sparkling-water-kamron_local-1597069269346\n",
       "H2O_cluster_total_nodes:    1\n",
       "H2O_cluster_free_memory:    11.56 Gb\n",
       "H2O_cluster_total_cores:    6\n",
       "H2O_cluster_allowed_cores:  6\n",
       "H2O_cluster_status:         locked, healthy\n",
       "H2O_connection_url:         http://207.148.81.217:54321\n",
       "H2O_connection_proxy:       null\n",
       "H2O_internal_security:      False\n",
       "H2O_API_Extensions:         XGBoost, Algos, Amazon S3, Sparkling Water REST API Extensions, AutoML, Core V3, TargetEncoder, Core V4\n",
       "Python_version:             3.8.3 final\n",
       "--------------------------  -------------------------------------------------------------------------------------------------------"
      ]
     },
     "metadata": {},
     "output_type": "display_data"
    },
    {
     "name": "stdout",
     "output_type": "stream",
     "text": [
      "\n",
      "Sparkling Water Context:\n",
      " * Sparkling Water Version: 3.30.0.7-1-3.0\n",
      " * H2O name: sparkling-water-kamron_local-1597069269346\n",
      " * cluster size: 1\n",
      " * list of used nodes:\n",
      "  (executorId, host, port)\n",
      "  ------------------------\n",
      "  (0,207.148.81.217,54321)\n",
      "  ------------------------\n",
      "\n",
      "  Open H2O Flow in browser: http://207.148.81.217:54323 (CMD + click in Mac OSX)\n",
      "\n",
      "    \n",
      "\n",
      "Sparkling Water Context:\n",
      " * Sparkling Water Version: 3.30.0.7-1-3.0\n",
      " * H2O name: sparkling-water-kamron_local-1597069269346\n",
      " * cluster size: 1\n",
      " * list of used nodes:\n",
      "  (executorId, host, port)\n",
      "  ------------------------\n",
      "  (0,207.148.81.217,54321)\n",
      "  ------------------------\n",
      "\n",
      "  Open H2O Flow in browser: http://207.148.81.217:54323 (CMD + click in Mac OSX)\n",
      "\n",
      "    \n"
     ]
    },
    {
     "data": {
      "text/plain": []
     },
     "execution_count": 13,
     "metadata": {},
     "output_type": "execute_result"
    }
   ],
   "source": [
    "H2OContext.getOrCreate()"
   ]
  },
  {
   "cell_type": "code",
   "execution_count": 14,
   "metadata": {},
   "outputs": [],
   "source": [
    "automl = H2OAutoML(maxRuntimeSecs=120, labelCol=\"target\", convertUnknownCategoricalLevelsToNa=True, convertInvalidNumbersToNa=True, seed=1)\n",
    "model = automl.fit(train_data)\n",
    "results = model.transform(test_data)"
   ]
  },
  {
   "cell_type": "code",
   "execution_count": 15,
   "metadata": {},
   "outputs": [
    {
     "name": "stdout",
     "output_type": "stream",
     "text": [
      "+-------+---------------+-------------------+-------------------+----+--------+------+-------+------+--------------------+\n",
      "|license|primarylanguage|        createddate|     lastpusheddate|fork|archived|locked|commits|target|          prediction|\n",
      "+-------+---------------+-------------------+-------------------+----+--------+------+-------+------+--------------------+\n",
      "|   null|           null|2016-01-01 00:04:41|2016-01-01 00:04:41|   0|       0|     0|      0|   0.0|-2.72132562657005E-5|\n",
      "|   null|           null|2016-01-01 00:31:22|2016-08-04 15:17:18|   0|       0|     0|      6|   0.0|-1.55999760461598...|\n",
      "|   null|           null|2016-01-01 01:20:04|2016-01-01 01:20:05|   0|       0|     0|      1|   0.0|-2.72104492966872...|\n",
      "|   null|           null|2016-01-01 01:23:40|2016-01-01 01:23:40|   0|       0|     0|      0|   0.0|-2.72103158974083...|\n",
      "|   null|           null|2016-01-01 01:25:06|2016-06-26 01:26:57|   0|       0|     0|     13|   0.0|-1.77215960262445...|\n",
      "|   null|           null|2016-01-01 04:03:12|2016-01-01 04:03:13|   0|       0|     0|      1|   0.0|-2.72043762169568...|\n",
      "|   null|           null|2016-01-01 04:12:27|2016-01-01 04:12:27|   0|       0|     0|      0|   0.0|-2.72040324811404...|\n",
      "|   null|           null|2016-01-01 04:15:43|2016-01-01 04:15:43|   0|       0|     0|      0|   0.0|-2.72039108706350...|\n",
      "|   null|           null|2016-01-01 04:26:06|2016-01-01 04:26:06|   0|       0|     0|      0|   0.0|-2.72035243229570...|\n",
      "|   null|           null|2016-01-01 04:26:26|2016-01-01 04:29:08|   0|       0|     0|      2|   0.0|-2.72034113989162...|\n",
      "|   null|           null|2016-01-01 05:06:38|2016-01-01 05:15:56|   0|       0|     0|      3|   0.0|-2.72016691422873...|\n",
      "|   null|           null|2016-01-01 05:16:09|2016-01-01 05:16:10|   0|       0|     0|      1|   0.0|-2.72016604558227...|\n",
      "|   null|           null|2016-01-01 05:57:50|2016-01-01 05:57:55|   0|       0|     0|      1|   0.0|-2.72001061991078...|\n",
      "|   null|           null|2016-01-01 06:16:09|2016-01-10 12:49:59|   0|       0|     0|     30|   0.0|-2.67022948360433...|\n",
      "|   null|           null|2016-01-01 06:27:15|2016-01-01 06:27:18|   0|       0|     0|      1|   0.0|-2.71990123250207...|\n",
      "|   null|           null|2016-01-01 06:27:29|2016-01-01 06:27:29|   0|       0|     0|      1|   0.0|-2.71990054999414...|\n",
      "|   null|           null|2016-01-01 08:09:24|2016-01-01 08:09:28|   0|       0|     0|     10|   0.0|-2.71952088944172...|\n",
      "|   null|           null|2016-01-01 08:16:56|2016-01-01 09:18:33|   0|       0|     0|      3|   0.0|-2.71926370804119...|\n",
      "|   null|           null|2016-01-01 09:12:16|2016-01-01 09:15:49|   0|       0|     0|      1|   0.0|-2.71927388361410...|\n",
      "|   null|           null|2016-01-01 09:37:40|2016-01-01 09:37:45|   0|       0|     0|      1|   0.0|-2.71919223084616...|\n",
      "+-------+---------------+-------------------+-------------------+----+--------+------+-------+------+--------------------+\n",
      "only showing top 20 rows\n",
      "\n",
      "+---+---------------------------------------------------+----------------------+---------------------+---------------------+---------------------+--------------------+\n",
      "|   |model_id                                           |mean_residual_deviance|rmse                 |mse                  |mae                  |rmsle               |\n",
      "+---+---------------------------------------------------+----------------------+---------------------+---------------------+---------------------+--------------------+\n",
      "|0  |GLM_1_AutoML_20200810_142401                       |1.0249982203744932E-6 |0.0010124219576710558|1.0249982203744932E-6|3.9282214533155056E-5|8.841446956007209E-4|\n",
      "|1  |StackedEnsemble_AllModels_AutoML_20200810_142401   |1.025140544249507E-6  |0.0010124922440441246|1.025140544249507E-6 |3.4369457704948164E-5|8.842185428633295E-4|\n",
      "|2  |StackedEnsemble_BestOfFamily_AutoML_20200810_142401|1.025140544249507E-6  |0.0010124922440441246|1.025140544249507E-6 |3.4369457704948164E-5|8.842185428633295E-4|\n",
      "|3  |DRF_1_AutoML_20200810_142401                       |1.0749765145145708E-6 |0.001036810741897754 |1.0749765145145708E-6|3.286920093154077E-5 |9.074294944594993E-4|\n",
      "|4  |XGBoost_1_AutoML_20200810_142401                   |0.1224921365881387    |0.34998876637420623  |0.1224921365881387   |0.34998778395341723  |0.3000921983913131  |\n",
      "|5  |XGBoost_3_AutoML_20200810_142401                   |0.12249215327609546   |0.3499887902149088   |0.12249215327609546  |0.3499878077951736   |0.30009221605350006 |\n",
      "|6  |XGBoost_2_AutoML_20200810_142401                   |0.12249234519631266   |0.34998906439532174  |0.12249234519631266  |0.349988081975442    |0.30009241914923396 |\n",
      "+---+---------------------------------------------------+----------------------+---------------------+---------------------+---------------------+--------------------+\n",
      "\n"
     ]
    }
   ],
   "source": [
    "results.show()\n",
    "automl.getLeaderboard().show(truncate=False)"
   ]
  },
  {
   "cell_type": "code",
   "execution_count": 16,
   "metadata": {},
   "outputs": [
    {
     "data": {
      "image/png": "[encoded data removed]",
      "text/plain": [
       "<Figure size 1008x720 with 1 Axes>"
      ]
     },
     "metadata": {
      "needs_background": "light"
     },
     "output_type": "display_data"
    }
   ],
   "source": [
    "def var_imp(model_id):\n",
    "    try: h2o.get_model(model_id).varimp_plot();\n",
    "    except: return False\n",
    "\n",
    "for model in automl.getLeaderboard().collect():\n",
    "    if var_imp(model[\"model_id\"]) != False: break"
   ]
  },
  {
   "cell_type": "code",
   "execution_count": null,
   "metadata": {},
   "outputs": [],
   "source": []
  }
 ],
 "metadata": {
  "kernelspec": {
   "display_name": "Python 3",
   "language": "python",
   "name": "python3"
  },
  "language_info": {
   "codemirror_mode": {
    "name": "ipython",
    "version": 3
   },
   "file_extension": ".py",
   "mimetype": "text/x-python",
   "name": "python",
   "nbconvert_exporter": "python",
   "pygments_lexer": "ipython3",
   "version": "3.8.3"
  }
 },
 "nbformat": 4,
 "nbformat_minor": 4
}
